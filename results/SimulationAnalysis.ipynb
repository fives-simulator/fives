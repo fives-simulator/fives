{
 "cells": [
  {
   "cell_type": "markdown",
   "id": "6089d954-23ed-49fe-93bd-8c114d21159f",
   "metadata": {},
   "source": [
    "# Simulation output analysis"
   ]
  },
  {
   "cell_type": "markdown",
   "id": "f26e898a-2898-47c2-8b05-66c6fb055d2a",
   "metadata": {
    "tags": []
   },
   "source": [
    "## Cost function \n",
    "\n",
    "For each job, we want to minimize the gap between:\n",
    "\n",
    "- simulated job's wait time and real wait time before execution -> Wj = abs(job_waiting_time_s) - real_waiting_time_s)\n",
    "- simulated job's run time and real runtime -> Rj = abs(job_runtime_s -  real_runtime_s)\n",
    "- simulated job's total IO time and real IO time -> IOj = abs() \n",
    "\n",
    " "
   ]
  },
  {
   "cell_type": "code",
   "execution_count": 1,
   "id": "6569aea3-44c8-41c0-8cd1-a59d13000e83",
   "metadata": {
    "tags": []
   },
   "outputs": [],
   "source": [
    "from yaml import load, CLoader\n",
    "\n",
    "simulated_job_trace = \"./simulatedJobs_theta2022_week4__StorAlloc_Theta_Lustre_fs0_0.0.1_i.yml\"\n",
    "\n",
    "results = None\n",
    "with open(simulated_job_trace, \"r\", encoding=\"utf-8\") as job_results:\n",
    "    results = load(job_results, Loader=CLoader)\n",
    "    \n",
    "print(f\"Loaded result dataset with {len(results)} jobs\")"
   ]
  },
  {
   "cell_type": "code",
   "execution_count": 2,
   "id": "a9039ccc-3bb4-4909-9bd5-c8189acf3439",
   "metadata": {
    "tags": []
   },
   "outputs": [],
   "source": [
    "import numpy as np\n",
    "from scipy.stats import pearsonr\n",
    "\n",
    "def cohend(d1, d2):\n",
    " # calculate the size of samples\n",
    " n1, n2 = len(d1), len(d2)\n",
    " # calculate the variance of the samples\n",
    " s1, s2 = np.var(d1, ddof=1), np.var(d2, ddof=1)\n",
    " # calculate the pooled standard deviation\n",
    " s = np.sqrt(((n1 - 1) * s1 + (n2 - 1) * s2) / (n1 + n2 - 2))\n",
    " # calculate the means of the samples\n",
    " u1, u2 = np.mean(d1), np.mean(d2)\n",
    " # calculate the effect size\n",
    " return (u1 - u2) / s"
   ]
  },
  {
   "cell_type": "code",
   "execution_count": 3,
   "id": "05fb2f5a-f68f-4d71-abd3-8ec093c42c64",
   "metadata": {
    "tags": []
   },
   "outputs": [],
   "source": [
    "## Compute the wait time differences and stats for all jobs\n",
    "\n",
    "# Mean diffs\n",
    "wait_time_diffs = []\n",
    "sim_wait_time = []\n",
    "real_wait_time = []\n",
    "\n",
    "for job in results:\n",
    "    wait_time_diffs.append(abs(job[\"job_waiting_time_s\"] - job[\"real_waiting_time_s\"]))\n",
    "    sim_wait_time.append(job[\"job_waiting_time_s\"])\n",
    "    real_wait_time.append(job[\"real_waiting_time_s\"])\n",
    "    \n",
    "mean_wait_time_difference = np.mean(wait_time_diffs)\n",
    "\n",
    "# Pearson's correlation\n",
    "wait_time_corr, _ = pearsonr(sim_wait_time, real_wait_time)\n",
    "\n",
    "# Cohen's D \n",
    "wait_time_cohen_d = cohend(sim_wait_time, real_wait_time)\n",
    "\n",
    "print(f\"The mean wait time difference between simulated and real values for all jobs is {mean_wait_time_difference}s (we want a mean difference as close to 0 as possible)\")\n",
    "print(f\"The Pearson's corr is {wait_time_corr} (we want a correlation as high as possible, simulated and real values should be close)\") \n",
    "print(f\"The Cohen d effect size is {wait_time_cohen_d} (we want an effect size as low as possible, the use of the simulator should lead to values close to real world traces)\")"
   ]
  },
  {
   "cell_type": "code",
   "execution_count": 4,
   "id": "337e586d-e225-47cf-b5a2-ea915322c5d1",
   "metadata": {
    "tags": []
   },
   "outputs": [],
   "source": [
    "import seaborn as sns\n",
    "import pandas as pd\n",
    "import matplotlib.pyplot as plt\n",
    "sns.set_theme(style=\"ticks\")\n",
    "\n",
    "# COLORS FOR THE ENTIRE NOTEBOOK\n",
    "real_color = (0.1, 0.4, 0.8, 0.5)\n",
    "sim_color = (1, 0.5, 0.2, 0.5)\n",
    "\n",
    "\n",
    "# Values for x=y target lineplot\n",
    "max_target = max(max(real_wait_time), max(sim_wait_time))\n",
    "line = {\"x\": [0, max_target], \"y\": [0, max_target]}\n",
    "\n",
    "        \n",
    "fig, axs = plt.subplots(ncols=3)\n",
    "fig.set_tight_layout(tight=True)\n",
    "fig.set_figheight(6)\n",
    "fig.set_figwidth(20)\n",
    "\n",
    "scatter = sns.scatterplot(x=real_wait_time, y=sim_wait_time, s=15, color=\".15\", ax=axs[0])\n",
    "target_line = sns.lineplot(line, x=\"x\", y=\"y\", color=\"red\", linestyle=\"--\", ax=axs[0])\n",
    "scatter.set(xlabel=\"Real\", ylabel=\"Simulated\")\n",
    "\n",
    "binwidth = 10000\n",
    "real_hist = sns.histplot(data=real_wait_time, binwidth=binwidth, ax=axs[1], color=real_color)\n",
    "real_hist.set(xlabel=f\"Real wait time - binwidth = {binwidth}s\")\n",
    "\n",
    "sim_hist = sns.histplot(data=sim_wait_time, binwidth=binwidth, ax=axs[2], color=sim_color)\n",
    "sim_hist.set(xlabel=f\"Simulated wait time - binwidth = {binwidth}s\")"
   ]
  },
  {
   "cell_type": "code",
   "execution_count": 18,
   "id": "660a506a-f064-4fd5-bcfc-b9de61b8770d",
   "metadata": {
    "tags": []
   },
   "outputs": [],
   "source": [
    "## Compute the run time differences for all jobs\n",
    "\n",
    "runtime_diffs = []\n",
    "sim_runtime = []\n",
    "real_runtime = []\n",
    "\n",
    "for job in results:\n",
    "    runtime_diffs.append(abs(job[\"job_runtime_s\"] - job[\"real_runtime_s\"]))\n",
    "    sim_runtime.append(job[\"job_runtime_s\"])\n",
    "    real_runtime.append(job[\"real_runtime_s\"])\n",
    "    \n",
    "mean_real_runtime = np.mean(real_runtime)\n",
    "mean_sim_runtime = np.mean(sim_runtime)   \n",
    "    \n",
    "mean_runtime_difference = np.mean(runtime_diffs)\n",
    "\n",
    "# Pearson's correlation\n",
    "runtime_corr, _ = pearsonr(sim_runtime, real_runtime)\n",
    "\n",
    "# Cohen's D \n",
    "runtime_cohen_d = cohend(sim_runtime, real_runtime)\n",
    "\n",
    "print(f\"Mean runtime for simulation : {mean_sim_runtime}s\")\n",
    "print(f\"Mean runtime in traces : {mean_real_runtime}s\")\n",
    "print(f\"The mean run time difference between simulated and real values for all jobs is {mean_runtime_difference}s\")\n",
    "print(f\"The Pearson's corr is {runtime_corr} (we want a correlation as high as possible)\") \n",
    "print(f\"The Cohen d effect size is {runtime_cohen_d} (we want an effect size as low as possible, the use of the simulator should lead to values close to real world traces)\")"
   ]
  },
  {
   "cell_type": "code",
   "execution_count": 6,
   "id": "95ae48a8-64ca-4cc7-9f86-9eb1db22dc0d",
   "metadata": {
    "tags": []
   },
   "outputs": [],
   "source": [
    "fig, axs = plt.subplots(ncols=3)\n",
    "fig.set_tight_layout(tight=True)\n",
    "fig.set_figheight(6)\n",
    "fig.set_figwidth(20)\n",
    "\n",
    "max_target = max(max(real_runtime), max(sim_runtime))\n",
    "line = {\"x\": [0, max_target], \"y\": [0, max_target]}\n",
    "\n",
    "scatter = sns.scatterplot(x=real_runtime, y=sim_runtime, s=15, color=\".15\", ax=axs[0])\n",
    "target_line = sns.lineplot(line, x=\"x\", y=\"y\", color=\"red\", linestyle=\"--\",  ax=axs[0])\n",
    "scatter.set(xlabel=\"Real\", ylabel=\"Simulated\")\n",
    "\n",
    "binwidth = 1000\n",
    "real_hist = sns.histplot(data=real_runtime, binwidth=binwidth, ax=axs[1], color=real_color)\n",
    "real_hist.set(xlabel=f\"Real runtime - binwidth = {binwidth}s\")\n",
    "\n",
    "sim_hist = sns.histplot(data=sim_runtime, binwidth=binwidth, ax=axs[2], color=sim_color)\n",
    "sim_hist.set(xlabel=f\"Simulated runtime - binwidth = {binwidth}s\")\n",
    "\n",
    "plt.savefig(\"runtimes_xreal_ysim.pdf\", format='pdf')\n",
    "plt.savefig(\"runtimes_xreal_ysim.png\", format='png')"
   ]
  },
  {
   "cell_type": "code",
   "execution_count": 7,
   "id": "bdf129b0-8b28-493b-b1fc-b92647c5f8e5",
   "metadata": {
    "tags": []
   },
   "outputs": [],
   "source": [
    "## Compute the IO durations differences and stats for all jobs\n",
    "\n",
    "# Mean diffs\n",
    "io_time_diff = []\n",
    "sim_io_time = []\n",
    "sim_read_time = []\n",
    "sim_write_time = []\n",
    "real_io_time = []\n",
    "real_read_time = []\n",
    "real_write_time = []\n",
    "\n",
    "for job in results:\n",
    "    \n",
    "    # \"Real\"\n",
    "    r_io_time = (job[\"real_cReadTime_s\"] +  job[\"real_cWriteTime_s\"] +  job[\"real_cMetaTime_s\"]) / job[\"real_cores_used\"]\n",
    "    real_io_time.append(r_io_time)\n",
    "    real_read_time.append(job[\"real_cReadTime_s\"] / job[\"real_cores_used\"])\n",
    "    real_write_time.append(job[\"real_cWriteTime_s\"] / job[\"real_cores_used\"])\n",
    "    \n",
    "    # Simulated\n",
    "    s_io_time = 0\n",
    "    s_r_time = 0\n",
    "    s_w_time = 0\n",
    "    for action in job[\"actions\"]:\n",
    "        if action[\"act_type\"] == \"COMPUTE\" or action[\"act_type\"] == \"SLEEP\":\n",
    "            continue\n",
    "        if action[\"act_status\"] != \"COMPLETED\":\n",
    "            continue\n",
    "        if action[\"act_type\"] == \"FILEREAD\":\n",
    "            s_r_time += action[\"act_duration\"]\n",
    "        if action[\"act_type\"] == \"FILEWRITE\":\n",
    "            s_w_time += action[\"act_duration\"]\n",
    "        s_io_time += action[\"act_duration\"]\n",
    "    \n",
    "    sim_io_time.append(s_io_time)\n",
    "    sim_read_time.append(s_r_time)\n",
    "    # print(s_r_time)\n",
    "    sim_write_time.append(s_w_time)\n",
    "    \n",
    "    io_time_diff.append(abs(s_io_time - r_io_time))\n",
    "    \n",
    "mean_io_time_difference = np.mean(io_time_diff)\n",
    "\n",
    "# Pearson's correlation\n",
    "io_time_corr, _ = pearsonr(sim_io_time, real_io_time)\n",
    "\n",
    "# Cohen's D \n",
    "io_time_cohen_d = cohend(sim_io_time, real_io_time)\n",
    "\n",
    "print(f\"The mean wait time difference between simulated and real values for all jobs is {mean_io_time_difference}s (we want a mean difference as close to 0 as possible)\")\n",
    "print(f\"The Pearson's corr is {io_time_corr} (we want a correlation as high as possible)\") \n",
    "print(f\"The Cohen d effect size is {io_time_cohen_d} (we want an effect size as low as possible, the use of the simulator should lead to values close to real world traces)\")"
   ]
  },
  {
   "cell_type": "code",
   "execution_count": 8,
   "id": "2c8e7372-ef64-4187-a1fd-fffc589912fa",
   "metadata": {
    "tags": []
   },
   "outputs": [],
   "source": [
    "fig, axs = plt.subplots(ncols=3)\n",
    "fig.set_tight_layout(tight=True)\n",
    "fig.set_figheight(6)\n",
    "fig.set_figwidth(20)\n",
    "\n",
    "print(f\"Min value for real_read_time : {min(real_read_time)}\")\n",
    "print(f\"Min value for sim_read_time : {min(sim_read_time)}\")\n",
    "print(f\"Min value for real_write_time : {min(real_write_time)}\")\n",
    "print(f\"Min value for sim_write_time : {min(sim_write_time)}\")\n",
    "\n",
    "max_target = max(max(real_io_time), max(sim_io_time))\n",
    "line = {\"x\": [0, max_target], \"y\": [0, max_target]}\n",
    "\n",
    "scatter = sns.scatterplot(x=real_io_time, y=sim_io_time, s=40, color=\".15\", alpha=0.5, ax=axs[0])\n",
    "read_scatter = sns.scatterplot(x=real_read_time, y=sim_read_time, s=20, ax=axs[0], facecolors=\"red\", marker=\"+\", alpha=0.6)\n",
    "write_scatter = sns.scatterplot(x=real_write_time, y=sim_write_time, s=20, color=\".10\", ax=axs[0], facecolors=\"blue\", marker=\"x\", alpha=0.3)\n",
    "target_line = sns.lineplot(line, x=\"x\", y=\"y\", color=\"red\", linestyle=\"--\", ax=axs[0])\n",
    "scatter.set(xlabel=\"Real\", ylabel=\"Simulated\")\n",
    "#axs[0].set_xscale('log')\n",
    "axs[0].set_xlim([0.0001, max_target*1.2])\n",
    "#axs[0].set_yscale('log')\n",
    "axs[0].set_ylim([0.0001, max_target*1.2])\n",
    "\n",
    "binwidth = 100\n",
    "real_hist = sns.histplot(data=real_io_time, binwidth=binwidth, ax=axs[1], color=real_color)\n",
    "real_hist.set(xlabel=f\"Real IO time - binwidth = {binwidth}s\")\n",
    "\n",
    "sim_hist = sns.histplot(data=sim_io_time, binwidth=binwidth, ax=axs[2], color=sim_color)\n",
    "sim_hist.set(xlabel=f\"Simulated IO time - binwidth = {binwidth}s\")"
   ]
  },
  {
   "cell_type": "code",
   "execution_count": 9,
   "id": "47feb999-38ce-4b5d-8186-e526508216eb",
   "metadata": {
    "tags": []
   },
   "outputs": [],
   "source": [
    "## Compute the IO volume differences and stats for all jobs (Here we're just checking that simulated values are coherent, \n",
    "## as the simulation should always read / write the data volume specified in the dataset anyway.\n",
    "\n",
    "# Mean diffs\n",
    "io_volume_diff = []\n",
    "sim_io_volume_gb = []\n",
    "real_io_volume_gb = []\n",
    "\n",
    "for job in results:\n",
    "    \n",
    "    # Real:\n",
    "    r_io_volume_gb = job[\"real_read_bytes\"] / 1_000_000_000 + job[\"real_written_bytes\"] / 1_000_000_000\n",
    "    real_io_volume_gb.append(r_io_volume_gb)\n",
    "    \n",
    "    # Simulated:\n",
    "    s_io_volume_gb = 0\n",
    "    for action in job[\"actions\"]:\n",
    "        \n",
    "        if (action[\"act_type\"] == \"FILEREAD\" or action[\"act_type\"] == \"CUSTOM\") and action[\"act_status\"] == \"COMPLETED\":\n",
    "            s_io_volume_gb += action[\"io_size_bytes\"] / 1_000_000_000\n",
    "        \n",
    "    sim_io_volume_gb.append(s_io_volume_gb)\n",
    "    \n",
    "    io_volume_diff.append(abs(s_io_volume_gb - r_io_volume_gb))\n",
    "    \n",
    "mean_io_volume_difference = np.mean(io_volume_diff)\n",
    "\n",
    "# Pearson's correlation\n",
    "io_vol_corr, _ = pearsonr(sim_io_volume_gb, real_io_volume_gb)\n",
    "\n",
    "# Cohen's D \n",
    "io_vol_cohen_d = cohend(sim_io_volume_gb, real_io_volume_gb)\n",
    "\n",
    "print(f\"The mean wait time difference between simulated and real values for all jobs is {mean_io_volume_difference}s (we want a mean difference as close to 0 as possible)\")\n",
    "print(f\"The Pearson's corr is {io_vol_corr} (we want a correlation as high as possible)\") \n",
    "print(f\"The Cohen d effect size is {io_vol_cohen_d} (we want an effect size as low as possible, the use of the simulator should lead to values close to real world traces)\")"
   ]
  },
  {
   "cell_type": "code",
   "execution_count": 10,
   "id": "2321ddf5-2f04-40ea-a45c-c61e7843ecfb",
   "metadata": {
    "tags": []
   },
   "outputs": [],
   "source": [
    "fig, axs = plt.subplots(ncols=3)\n",
    "fig.set_tight_layout(tight=True)\n",
    "fig.set_figheight(6)\n",
    "fig.set_figwidth(20)\n",
    "\n",
    "max_target = max(max(real_io_volume_gb), max(sim_io_volume_gb))\n",
    "line = {\"x\": [0, max_target], \"y\": [0, max_target]}\n",
    "\n",
    "scatter = sns.scatterplot(x=real_io_volume_gb, y=sim_io_volume_gb, s=15, color=\".15\", ax=axs[0])\n",
    "target_line = sns.lineplot(line, x=\"x\", y=\"y\", color=\"red\", linestyle=\"--\", linewidth=0.3, ax=axs[0])\n",
    "scatter.set(xlabel=\"Real\", ylabel=\"Simulated\")\n",
    "\n",
    "binwidth = 100\n",
    "real_hist = sns.histplot(data=real_io_volume_gb, binwidth=binwidth, ax=axs[1], color=real_color)\n",
    "real_hist.set(xlabel=f\"Real IO Volume - binwidth = {binwidth}GB\")\n",
    "\n",
    "sim_hist = sns.histplot(data=sim_io_volume_gb, binwidth=binwidth, ax=axs[2], color=sim_color)\n",
    "sim_hist.set(xlabel=f\"Simulated IO Volume - binwidth = {binwidth}GB\")"
   ]
  },
  {
   "cell_type": "code",
   "execution_count": 11,
   "id": "a5d76834-30a3-4c07-a572-f5f0469870cd",
   "metadata": {},
   "outputs": [],
   "source": [
    "import pandas as pd\n",
    "\n",
    "fig, axs = plt.subplots(ncols=1)\n",
    "fig.set_tight_layout(tight=True)\n",
    "fig.set_figheight(6)\n",
    "fig.set_figwidth(20)\n",
    "\n",
    "job_start_times = []\n",
    "\n",
    "lines = []\n",
    "\n",
    "runtime_index = 0\n",
    "for job in results:\n",
    "    \n",
    "    job_start_times.append(job[\"job_start_ts\"])\n",
    "    \n",
    "    lines.append({\n",
    "                    \"x\": [pd.to_datetime(job[\"job_start_ts\"], unit='s', origin=\"2022-01-29 23:16:48\"), \n",
    "                        pd.to_datetime(job[\"job_end_ts\"], unit='s', origin=\"2022-01-29 23:16:48\")], \n",
    "                    \"y\": [runtime_index, runtime_index]\n",
    "                })\n",
    "    runtime_index += 1\n",
    "    \n",
    "\n",
    "# I manually set the origin date by looking at the start ts of the first job in the dataset\n",
    "job_start_times = pd.to_datetime(job_start_times, unit='s', origin=\"2022-01-29 23:16:48\")\n",
    "\n",
    "\n",
    "scatter = sns.scatterplot(x=job_start_times, y=range(1,len(results) + 1), s=15, color=\".15\", ax=axs)\n",
    "for line in lines:\n",
    "    sns.lineplot(line, x=\"x\", y=\"y\", color=\"red\", linestyle=\"-\", linewidth=0.5, ax=axs)\n",
    "scatter.set(xlabel=\"Date (origin approx)\", ylabel=\"Nb of jobs run\")"
   ]
  },
  {
   "cell_type": "code",
   "execution_count": 12,
   "id": "82415cc3-f5a7-4516-a620-2de67ec1acef",
   "metadata": {
    "jupyter": {
     "source_hidden": true
    },
    "tags": []
   },
   "outputs": [],
   "source": [
    "simulated_job_trace"
   ]
  },
  {
   "cell_type": "code",
   "execution_count": 13,
   "id": "5e502580-6a22-47c0-9aa1-246866edb87a",
   "metadata": {
    "jupyter": {
     "source_hidden": true
    },
    "tags": []
   },
   "outputs": [],
   "source": [
    "ds_name_start = simulated_job_trace.find('_')\n",
    "ds_name_end = simulated_job_trace.find('__')\n",
    "ds_name = simulated_job_trace[ds_name_start + 1:ds_name_end]"
   ]
  },
  {
   "cell_type": "code",
   "execution_count": 14,
   "id": "505385fa-868a-4a41-bd4c-42b4d7a478e3",
   "metadata": {
    "jupyter": {
     "source_hidden": true
    },
    "tags": []
   },
   "outputs": [],
   "source": [
    "dataset_path = f\"../../raw_data_processing/theta/{ds_name}.yaml\"\n",
    "dataset_path"
   ]
  },
  {
   "cell_type": "code",
   "execution_count": 15,
   "id": "0a68ce3d-635d-4826-831f-e892cd647fd4",
   "metadata": {
    "tags": []
   },
   "outputs": [],
   "source": [
    "dataset_yaml = None\n",
    "with open(dataset_path, \"r\", encoding=\"utf-8\") as dataset:\n",
    "    dataset_yaml = load(dataset, Loader=CLoader)"
   ]
  },
  {
   "cell_type": "code",
   "execution_count": 16,
   "id": "177a8535-0880-407e-a419-4210268a0a62",
   "metadata": {
    "tags": []
   },
   "outputs": [],
   "source": [
    "import datetime as dt\n",
    "fig, axs = plt.subplots(ncols=1)\n",
    "fig.set_tight_layout(tight=True)\n",
    "fig.set_figheight(6)\n",
    "fig.set_figwidth(20)\n",
    "\n",
    "job_start_times = []\n",
    "\n",
    "lines = []\n",
    "\n",
    "runtime_index = 0\n",
    "for job in dataset_yaml[\"jobs\"]:\n",
    "    \n",
    "    job_start_times.append(dt.datetime.fromisoformat(job[\"startTime\"]))\n",
    "\n",
    "    lines.append({\n",
    "                    \"x\": [dt.datetime.fromisoformat(job[\"startTime\"]), \n",
    "                          dt.datetime.fromisoformat(job[\"endTime\"])], \n",
    "                    \"y\": [runtime_index, runtime_index]\n",
    "                })\n",
    "    runtime_index += 1\n",
    "    \n",
    "scatter = sns.scatterplot(x=job_start_times, y=range(1,len(results) + 1), s=15, color=\".15\", ax=axs)\n",
    "for line in lines:\n",
    "    sns.lineplot(line, x=\"x\", y=\"y\", color=\"red\", linestyle=\"-\", linewidth=0.5, ax=axs)\n",
    "scatter.set(xlabel=\"Date (origin approx)\", ylabel=\"Nb of jobs run\")"
   ]
  },
  {
   "cell_type": "code",
   "execution_count": null,
   "id": "ff4b940a-9a24-417b-8bb4-f22f6dbd6d20",
   "metadata": {},
   "outputs": [],
   "source": []
  },
  {
   "cell_type": "code",
   "execution_count": null,
   "id": "81994c0d-4312-4bc6-9eda-d0dbc20a37b8",
   "metadata": {},
   "outputs": [],
   "source": []
  }
 ],
 "metadata": {
  "kernelspec": {
   "display_name": "Python 3 (ipykernel)",
   "language": "python",
   "name": "python3"
  },
  "language_info": {
   "codemirror_mode": {
    "name": "ipython",
    "version": 3
   },
   "file_extension": ".py",
   "mimetype": "text/x-python",
   "name": "python",
   "nbconvert_exporter": "python",
   "pygments_lexer": "ipython3",
   "version": "3.10.1"
  }
 },
 "nbformat": 4,
 "nbformat_minor": 5
}
