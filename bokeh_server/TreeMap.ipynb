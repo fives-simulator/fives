{
 "cells": [
  {
   "cell_type": "code",
   "execution_count": 1,
   "id": "a326ad56",
   "metadata": {
    "scrolled": true
   },
   "outputs": [],
   "source": [
    "import yaml\n",
    "import datetime as dt\n",
    "\n",
    "import pandas as pd\n",
    "import numpy as np\n",
    "import matplotlib\n",
    "\n",
    "from bokeh.layouts import column\n",
    "from bokeh.models import (ColumnDataSource, Slider, LabelSet, CategoricalColorMapper, DataTable, HoverTool, IntEditor,\n",
    "                          NumberEditor, NumberFormatter, SelectEditor,\n",
    "                          StringEditor, StringFormatter, TableColumn, LinearColorMapper, ContinuousColorMapper)\n",
    "from bokeh.plotting import figure\n",
    "from bokeh.themes import Theme\n",
    "from bokeh.palettes import Spectral4, viridis, Viridis256\n",
    "from bokeh.io import show, output_notebook\n",
    "from bokeh.transform import jitter, factor_cmap, linear_cmap\n",
    "\n",
    "from squarify import normalize_sizes, squarify\n",
    "import colorcet as cc\n",
    "\n",
    "\n",
    "output_notebook()"
   ]
  },
  {
   "cell_type": "code",
   "execution_count": 2,
   "id": "068513b1",
   "metadata": {
    "scrolled": true
   },
   "outputs": [],
   "source": [
    "## IMPORT IO TRACES AND CREATE TWO DATAFRAMES\n",
    "\n",
    "columns = [\"ts\", \"storage_service_name\", \"storage_hostname\", \"disk_id\", \"disk_capacity\", \"disk_free_space\", \"file_name\"]\n",
    "dtypes = {\n",
    "    \"ts\": \"Float64\", \n",
    "    \"storage_service_name\": \"string\", \n",
    "    \"storage_hostname\": \"string\", \n",
    "    \"disk_id\": \"string\", \n",
    "    \"disk_capacity\": \"UInt64\",\n",
    "    \"disk_free_space\": \"UInt64\",\n",
    "    \"file_name\": \"string\"\n",
    "}\n",
    "\n",
    "\"\"\"\n",
    "io_traces = None\n",
    "with open(\"timestamped_io_operations_10.yml\", \"r\", encoding=\"utf-8\") as traces:\n",
    "    io_traces = yaml.load(traces, Loader=yaml.SafeLoader)\n",
    "    \n",
    "ts_traces = pd.DataFrame(io_traces)\n",
    "ts_traces\n",
    "\"\"\"\n",
    "\n",
    "ts_traces = pd.read_csv(\"timestamped_io_operations.csv\", sep=\",\", header=0, dtype=dtypes)\n",
    "ts_traces\n"
   ]
  },
  {
   "cell_type": "code",
   "execution_count": 3,
   "id": "f50b88c9",
   "metadata": {
    "scrolled": true
   },
   "outputs": [],
   "source": [
    "ts_traces = ts_traces.sort_values(by=[\"ts\", \"storage_service_name\"])\n",
    "ts_traces[\"percent_free\"] = ts_traces[\"disk_free_space\"].mul(100) \n",
    "ts_traces[\"percent_free\"] = ts_traces[\"percent_free\"] / ts_traces[\"disk_capacity\"] \n",
    "ts_traces[\"disk_capacity_tb\"] = (ts_traces[\"disk_capacity\"] / 1000 / 1000 / 1000 / 1000).round(decimals=2)\n",
    "\n",
    "ts_trace_0 = ts_traces[ts_traces[\"action_name\"] == 11]\n",
    "ts_trace_simulation = ts_traces[ts_traces[\"action_name\"] != 11]"
   ]
  },
  {
   "cell_type": "code",
   "execution_count": 4,
   "id": "7d474f19",
   "metadata": {
    "scrolled": true
   },
   "outputs": [],
   "source": [
    "ts_trace_0"
   ]
  },
  {
   "cell_type": "code",
   "execution_count": 5,
   "id": "4ab27ff3",
   "metadata": {
    "scrolled": true
   },
   "outputs": [],
   "source": [
    "ts_trace_simulation"
   ]
  },
  {
   "cell_type": "code",
   "execution_count": 6,
   "id": "c4dca44f",
   "metadata": {
    "scrolled": true
   },
   "outputs": [],
   "source": [
    "\"\"\"\n",
    "unique_ts = pd.Series(df_dummy[\"ts\"].unique()).sort_values()\n",
    "unique_ts\n",
    "\"\"\"\n",
    "\n",
    "unique_ts = pd.Series(ts_traces[\"ts\"].unique()).sort_values()\n",
    "unique_ts"
   ]
  },
  {
   "cell_type": "code",
   "execution_count": 7,
   "id": "5b600661",
   "metadata": {
    "scrolled": true
   },
   "outputs": [],
   "source": [
    "\"\"\"\n",
    "df_dummy_by_ts = df_dummy.groupby(\"ts\")\n",
    "keys = [key for key, _ in df_dummy_by_ts]\n",
    "number_of_traces = len(keys)\n",
    "\"\"\"\n",
    "\n",
    "ts_traces_by_ts = ts_traces.groupby(\"ts\")\n",
    "keys = [key for key, _ in ts_traces_by_ts]\n",
    "# print(keys)\n",
    "number_of_traces = len(keys)\n",
    "\n",
    "ts_traces_by_hostname = ts_traces.groupby(\"storage_hostname\")\n",
    "SERVER_NAMES = [key for key, _ in ts_traces_by_hostname]\n",
    "# print(SERVER_NAMES)\n",
    "NB_SERVERS = len(SERVER_NAMES)"
   ]
  },
  {
   "cell_type": "code",
   "execution_count": 8,
   "id": "fa201185",
   "metadata": {
    "scrolled": true
   },
   "outputs": [],
   "source": [
    "import numpy as np\n",
    " \n",
    "from bokeh.models import ColumnDataSource, RangeTool, DatetimeTickFormatter, NumeralTickFormatter\n",
    "from bokeh.transform import factor_cmap, factor_mark\n",
    "\n",
    "VERBOSE_DT_FORMATTER = DatetimeTickFormatter(days='%d/%m', hours=\"%d/%m - %Hh\", hourmin='%H:%M', minutes = '%H:%M')\n",
    "BYTE_FORMATTER = NumeralTickFormatter(format='0.0b')\n",
    "\n",
    "X, Y, W, H = 0, 0, 1800, 1000\n",
    "disks = None\n",
    "\n",
    "\n",
    "def treemap(df, col, x, y, dx, dy):\n",
    "    \"\"\"Normalize treemap\"\"\"\n",
    "    sub_df = df.copy() # nlargest(N, col)\n",
    "    normed = normalize_sizes(sub_df[col], dx, dy)\n",
    "    blocks = squarify(normed, x, y, dx, dy)\n",
    "    blocks_df = pd.DataFrame.from_dict(blocks).set_index(sub_df.index)\n",
    "    return sub_df.join(blocks_df, how=\"left\").reset_index()\n",
    "\n",
    "\n",
    "def compute_dfs(df: pd.DataFrame, index: int):\n",
    "    \"\"\"Prepare generic source from dataframe\"\"\"\n",
    "    \n",
    "    ts_trace_1 = ts_traces[ts_traces[\"ts\"] == unique_ts[index]]\n",
    "    ts_trace_1 = ts_trace_1[\n",
    "        [\n",
    "            \"storage_hostname\", \n",
    "            \"disk_id\", \n",
    "            \"disk_capacity\", \n",
    "            \"disk_free_space\", \n",
    "            \"percent_free\", \n",
    "            \"disk_capacity_tb\", \n",
    "            \"file_name\"\n",
    "        ]\n",
    "    ]\n",
    "    ts_trace_1_by_server = (ts_trace_1[[\"storage_hostname\", \"disk_id\", \"disk_capacity\", \"file_name\"]]\n",
    "                            .groupby(\"storage_hostname\").sum(\"disk_capacity\").sort_values([\"storage_hostname\"]))\n",
    "    \n",
    "    blocks_by_server = treemap(ts_trace_1_by_server, \"disk_capacity\", X, Y, W, H)\n",
    "\n",
    "    dfs = []\n",
    "    for index, (storage_server, capacity, x, y, dx, dy) in blocks_by_server.iterrows():\n",
    "        df = ts_trace_1[ts_trace_1.storage_hostname==storage_server]\n",
    "        df = df.sort_values([\"disk_capacity\"])\n",
    "        dfs.append(treemap(df, \"disk_capacity\", x, y, dx, dy))\n",
    "    blocks = pd.concat(dfs)\n",
    "    blocks[\"ytop\"] = blocks.y + blocks.dy\n",
    "    \n",
    "    internal_blocks = blocks.copy()\n",
    "    internal_blocks[\"x\"] = internal_blocks[\"x\"] + 5\n",
    "    internal_blocks[\"y\"] = internal_blocks[\"y\"] + 5\n",
    "    internal_blocks[\"dx\"] = internal_blocks[\"dx\"] - 10\n",
    "    internal_blocks[\"dy\"] = internal_blocks[\"dy\"] - 10\n",
    "    \n",
    "    internal_blocks = internal_blocks.sort_values([\"storage_hostname\", \"disk_id\", \"file_name\"])\n",
    "    internal_blocks = internal_blocks.reset_index(drop=True)\n",
    "    internal_blocks = internal_blocks.drop(\"index\", axis=1)\n",
    "    \n",
    "    return (blocks_by_server, internal_blocks)\n",
    "\n",
    "\n",
    "def bkapp(doc):\n",
    "        \n",
    "    # Get a color map with 100 colors ranging from green to red\n",
    "    colors = [\"#3aeb34\", \"#ffba26\", \"#ff2a26\"][::-1]\n",
    "    cmap = matplotlib.colors.LinearSegmentedColormap.from_list(\"cmap_green_red\", colors, N=100)\n",
    "    hex_color_map = [matplotlib.colors.rgb2hex(cmap(i)) for i in range(cmap.N)]\n",
    "    \n",
    "    global disks\n",
    "    servers, disks = compute_dfs(ts_traces, 0)\n",
    "    servers_source = ColumnDataSource(servers)\n",
    "    disks_source = ColumnDataSource(disks)\n",
    "    \n",
    "    p = figure(\n",
    "        width=W, \n",
    "        height=H, \n",
    "        toolbar_location=None,\n",
    "        x_axis_location=None, \n",
    "        y_axis_location=None\n",
    "    )\n",
    "    p.x_range.range_padding = p.y_range.range_padding = 0\n",
    "    p.grid.grid_line_color = None\n",
    "\n",
    "    # Servers\n",
    "    p.block('x', 'y', 'dx', 'dy', source=servers_source, \n",
    "            line_width=2, line_color=\"black\",\n",
    "            fill_alpha=0.8, fill_color=factor_cmap(\"storage_hostname\", viridis(NB_SERVERS), SERVER_NAMES))\n",
    "    \n",
    "    # Disks\n",
    "    disk_blk = p.block('x', 'y', 'dx', 'dy', source=disks_source, line_width=1, line_color=\"black\",\n",
    "            fill_alpha=0.8, fill_color=linear_cmap('percent_free', hex_color_map, 0, 100))\n",
    "    # p.text('x', 'ytop', x_offset=2, y_offset=5, text=\"disk_id\", source=disks_source,\n",
    "           #text_font_size=\"8pt\", text_baseline=\"top\")\n",
    "    # capa_text = p.text('x', 'ytop', x_offset=2, y_offset=20, text=\"disk_capacity_tb\", source=disks_source,\n",
    "           #text_font_size=\"10pt\", text_baseline=\"top\", text_align=\"left\")\n",
    "    \n",
    "    # \n",
    "    # p.text('x', 'y', x_offset=2, text=\"storage_hostname\", source=servers_source,\n",
    "    #       text_font_size=\"14pt\", text_color=\"white\")\n",
    "        \n",
    "    hover = HoverTool(name='ytd_ave',tooltips=[\n",
    "            (\"Storage service\", \"@storage_hostname\"),\n",
    "            (\"Disk\", \"@disk_id\"),\n",
    "            (\"Free space (%)\", \"@percent_free\"),\n",
    "            (\"Free space (Bytes)\", \"@disk_free_space\"),\n",
    "            (\"File\", \"@file_name\")\n",
    "        ]\n",
    "    )\n",
    "    hover.renderers = [disk_blk]\n",
    "    p.add_tools(hover)\n",
    "        \n",
    "    # Slider for trace id control\n",
    "    trace_id = Slider(title=\"trace\", value=0, start=0, end=(number_of_traces - 1), step=1)\n",
    "    \n",
    "    def update_data(attrname, old, new):\n",
    "        # Get the current slider value\n",
    "        index = trace_id.value\n",
    "        \n",
    "        ts_trace_1 = ts_traces[ts_traces[\"ts\"] == unique_ts[index]]\n",
    "        ts_trace_1 = ts_trace_1[[\"storage_hostname\", \"disk_id\", \"disk_capacity\", \"disk_free_space\", \"percent_free\", \"disk_capacity_tb\", \"file_name\"]].sort_values([\"storage_hostname\", \"disk_id\", \"file_name\"])\n",
    "        ts_trace_1 = ts_trace_1.reset_index()\n",
    "        ts_trace_1 = ts_trace_1.drop(\"index\", axis=1)\n",
    "        ts_trace_1 = ts_trace_1.set_index(keys=[\"storage_hostname\", \"disk_id\"])\n",
    "        ts_trace_1 = ts_trace_1.groupby([\"storage_hostname\", \"disk_id\"]).agg(\n",
    "            {\n",
    "                \"disk_capacity\": \"first\", \n",
    "                \"disk_free_space\": \"first\",\n",
    "                \"percent_free\": \"first\",\n",
    "                \"disk_capacity_tb\": \"first\",\n",
    "                \"file_name\": ', '.join\n",
    "            }\n",
    "        )\n",
    "        print(ts_trace_1)\n",
    "        \n",
    "        # servers.update(ts_trace_1_by_server)\n",
    "        global disks\n",
    "        disks = disks.set_index(keys=[\"storage_hostname\", \"disk_id\"])\n",
    "        temp_file_name = disks[\"file_name\"].copy(deep=True)\n",
    "        disks.update(ts_trace_1)\n",
    "        print(\"### Disks after update\")\n",
    "        \n",
    "        print(\"##########################\")\n",
    "        disks[\"previous_file_name\"] = temp_file_name\n",
    "        print(disks)\n",
    "        disks[\"file_name\"] = disks[\"previous_file_name\"] + \", \" + disks[\"file_name\"]\n",
    "        # disks[\"previous_file_name\", \"file_name\"].apply(lambda x: \", \".join(x), axis=1)\n",
    "        # disks.drop(\"previous_filename\", axis=1)\n",
    "        print(\"####### Disks after apply\")\n",
    "        print(disks)\n",
    "        print(\"###########################2\")\n",
    "        disks = disks.reset_index()\n",
    "        \n",
    "        #n_disks = pd.concat([disks,ts_trace_1]).drop_duplicates(['storage_hostname','disk_id'],keep='last')\n",
    "        #n_disks = n_disks.reset_index()\n",
    "        #n_disks = n_disks.drop(\"index\", axis=1)\n",
    "        # disks.update(ts_trace_1)\n",
    "        \n",
    "        # servers_source = servers\n",
    "        disks_source.data = disks\n",
    "        \n",
    "        \"\"\"\n",
    "        new_servers, new_disks = compute_dfs(ts_traces, index)\n",
    "        servers_source = new_servers\n",
    "        disks_source.data = new_disks\n",
    "        \"\"\"\n",
    "        \n",
    "    trace_id.on_change('value', update_data)\n",
    "\n",
    "    doc.add_root(column(p, trace_id))\n",
    "\n",
    "    doc.theme = Theme(json=yaml.load(\"\"\"\n",
    "        attrs:\n",
    "            figure:\n",
    "                background_fill_color: \"#DDDDDD\"\n",
    "                outline_line_color: white\n",
    "                toolbar_location: above\n",
    "                height: 700\n",
    "                width: 1200\n",
    "            Grid:\n",
    "                grid_line_dash: [6, 4]\n",
    "                grid_line_color: white\n",
    "    \"\"\", Loader=yaml.FullLoader))"
   ]
  },
  {
   "cell_type": "code",
   "execution_count": 9,
   "id": "858743ca",
   "metadata": {
    "scrolled": false
   },
   "outputs": [],
   "source": [
    "show(bkapp) # notebook_url=\"http://localhost:8888\" "
   ]
  },
  {
   "cell_type": "code",
   "execution_count": 10,
   "id": "23c9773f",
   "metadata": {
    "scrolled": true
   },
   "outputs": [],
   "source": [
    "servers, disks = compute_dfs(ts_traces, 0)\n",
    "disks"
   ]
  },
  {
   "cell_type": "code",
   "execution_count": null,
   "id": "0b1d8f58",
   "metadata": {
    "scrolled": true
   },
   "outputs": [],
   "source": [
    "ts_trace_1 = ts_traces[ts_traces[\"ts\"] == unique_ts[1]]\n",
    "ts_trace_1 = ts_trace_1[[\"storage_hostname\", \"disk_id\", \"disk_capacity\", \"disk_free_space\", \"percent_free\", \"disk_capacity_tb\", \"file_name\"]].sort_values([\"storage_hostname\", \"disk_id\"])\n",
    "ts_trace_1 = ts_trace_1.reset_index()\n",
    "ts_trace_1 = ts_trace_1.drop(\"index\", axis=1)\n",
    "ts_trace_1 = ts_trace_1.sort_values([\"storage_hostname\", \"disk_id\"])\n",
    "ts_trace_1 = ts_trace_1.set_index(keys=[\"storage_hostname\", \"disk_id\"])\n",
    "ts_trace_1 = ts_trace_1.groupby([\"storage_hostname\", \"disk_id\"]).agg(\n",
    "    {\n",
    "        \"disk_capacity\": \"first\", \n",
    "        \"disk_free_space\": \"first\",\n",
    "        \"percent_free\": \"first\",\n",
    "        \"disk_capacity_tb\": \"first\",\n",
    "        \"file_name\": ', '.join\n",
    "    }\n",
    ")\n",
    "ts_trace_1"
   ]
  },
  {
   "cell_type": "code",
   "execution_count": null,
   "id": "156a8c74",
   "metadata": {
    "scrolled": true
   },
   "outputs": [],
   "source": [
    "disks = disks.reset_index()\n",
    "disks = disks.drop(\"index\", axis=1)\n",
    "disks = disks.set_index(keys=[\"storage_hostname\", \"disk_id\"])\n",
    "disks"
   ]
  },
  {
   "cell_type": "code",
   "execution_count": null,
   "id": "bec161ba",
   "metadata": {
    "scrolled": true
   },
   "outputs": [],
   "source": [
    "disks.update(ts_trace_1)\n",
    "disks"
   ]
  },
  {
   "cell_type": "code",
   "execution_count": null,
   "id": "16a1b863",
   "metadata": {
    "scrolled": false
   },
   "outputs": [],
   "source": [
    "disks = pd.concat([disks,ts_trace_1]).drop_duplicates(['storage_hostname','disk_id'],keep='last')\n",
    "disks = disks.reset_index()\n",
    "disks = disks.drop(\"index\", axis=1)\n",
    "disks"
   ]
  },
  {
   "cell_type": "code",
   "execution_count": null,
   "id": "44f36765",
   "metadata": {
    "scrolled": true
   },
   "outputs": [],
   "source": []
  }
 ],
 "metadata": {
  "kernelspec": {
   "display_name": "Python 3 (ipykernel)",
   "language": "python",
   "name": "python3"
  },
  "language_info": {
   "codemirror_mode": {
    "name": "ipython",
    "version": 3
   },
   "file_extension": ".py",
   "mimetype": "text/x-python",
   "name": "python",
   "nbconvert_exporter": "python",
   "pygments_lexer": "ipython3",
   "version": "3.10.1"
  }
 },
 "nbformat": 4,
 "nbformat_minor": 5
}
