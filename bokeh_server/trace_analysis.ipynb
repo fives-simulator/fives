{
 "cells": [
  {
   "cell_type": "markdown",
   "metadata": {},
   "source": [
    "## Embedding a Bokeh server in a Notebook\n",
    "\n",
    "This notebook shows how a Bokeh server application can be embedded inside a Jupyter notebook. "
   ]
  },
  {
   "cell_type": "code",
   "execution_count": 15,
   "metadata": {},
   "outputs": [],
   "source": [
    "import yaml\n",
    "\n",
    "import pandas as pd\n",
    "\n",
    "from bokeh.layouts import column\n",
    "from bokeh.models import ColumnDataSource, Slider\n",
    "from bokeh.plotting import figure\n",
    "from bokeh.themes import Theme\n",
    "from bokeh.io import show, output_notebook\n",
    "\n",
    "from bokeh.sampledata.sea_surface_temperature import sea_surface_temperature\n",
    "\n",
    "output_notebook()"
   ]
  },
  {
   "cell_type": "code",
   "execution_count": 16,
   "metadata": {},
   "outputs": [],
   "source": [
    "io_traces = None\n",
    "with open(\"io_operations.yml\", \"r\", encoding=\"utf-8\") as traces:\n",
    "    io_traces = yaml.load(traces, Loader=yaml.SafeLoader)\n",
    "    \n",
    "# Print first job trace\n",
    "print(io_traces[2])\n",
    "\n",
    "\n",
    "job_columns = [\n",
    "    \"job_id\", \n",
    "    \"job_status\", \n",
    "    \"job_submit_ts\", \n",
    "    \"job_end_ts\", \n",
    "    \"job_duration\",\n",
    "    \"origin_runtime\",\n",
    "    \"origin_read_bytes\",\n",
    "    \"origin_written_bytes\",\n",
    "    \"origin_core_used\",\n",
    "    \"origin_mpi_procs\",\n",
    "    \"job_sleep_time\",\n",
    "]\n",
    "\n",
    "# Not all columns are used by every type of action...\n",
    "action_columns = [\n",
    "    \"act_name\",\n",
    "    \"act_type\",\n",
    "    \"act_status\",\n",
    "    \"act_start_ts\",\n",
    "    \"act_end_ts\",\n",
    "    \"act_duration\",\n",
    "    \"src_storage_service\",\n",
    "    \"src_storage_server\",\n",
    "    \"src_storage_disk\",\n",
    "    \"src_file_path\",\n",
    "    \"src_file_name\",\n",
    "    \"src_file_size_bytes\",\n",
    "    \"dst_storage_service\",\n",
    "    \"dst_storage_server\",\n",
    "    \"dst_storage_disk\",\n",
    "    \"dst_file_path\",\n",
    "    \"dst_file_name\",\n",
    "    \"dst_file_size_bytes\",\n",
    "]\n",
    "\n",
    "\n",
    "\n",
    "\n",
    "pd.DataFrame(io_traces, columns=job_columns)\n"
   ]
  },
  {
   "cell_type": "markdown",
   "metadata": {},
   "source": [
    "There are various application handlers that can be used to build up Bokeh documents. For example, there is a `ScriptHandler` that uses the code from a `.py` file to produce Bokeh documents. This is the handler that is used when we run `bokeh serve app.py`. In the notebook we can use a function to define a Bokeh application.\n",
    "\n",
    "Here is the function `bkapp(doc)` that defines our app:"
   ]
  },
  {
   "cell_type": "code",
   "execution_count": 3,
   "metadata": {},
   "outputs": [],
   "source": [
    "def bkapp(doc):\n",
    "    df = sea_surface_temperature.copy()\n",
    "    source = ColumnDataSource(data=df)\n",
    "\n",
    "    plot = figure(x_axis_type='datetime', y_range=(0, 25),\n",
    "                  y_axis_label='Temperature (Celsius)',\n",
    "                  title=\"Sea Surface Temperature at 43.18, -70.43\")\n",
    "    plot.line('time', 'temperature', source=source)\n",
    "\n",
    "    def callback(attr, old, new):\n",
    "        if new == 0:\n",
    "            data = df\n",
    "        else:\n",
    "            data = df.rolling('{0}D'.format(new)).mean()\n",
    "        source.data = ColumnDataSource.from_df(data)\n",
    "\n",
    "    slider = Slider(start=0, end=30, value=0, step=1, title=\"Smoothing by N Days\")\n",
    "    slider.on_change('value', callback)\n",
    "\n",
    "    doc.add_root(column(slider, plot))\n",
    "\n",
    "    doc.theme = Theme(json=yaml.load(\"\"\"\n",
    "        attrs:\n",
    "            figure:\n",
    "                background_fill_color: \"#DDDDDD\"\n",
    "                outline_line_color: white\n",
    "                toolbar_location: above\n",
    "                height: 500\n",
    "                width: 800\n",
    "            Grid:\n",
    "                grid_line_dash: [6, 4]\n",
    "                grid_line_color: white\n",
    "    \"\"\", Loader=yaml.FullLoader))"
   ]
  },
  {
   "cell_type": "markdown",
   "metadata": {},
   "source": [
    "Now we can display our application using ``show``, which will automatically create an ``Application`` that wraps ``bkapp`` using ``FunctionHandler``. The end result is that the Bokeh server will call ``bkapp`` to build new documents for every new sessions that is opened.\n",
    "\n",
    "**Note**: If the current notebook is not displayed at the default URL, you must update the `notebook_url` parameter in the comment below to match, and pass it to `show`."
   ]
  },
  {
   "cell_type": "code",
   "execution_count": 4,
   "metadata": {},
   "outputs": [],
   "source": [
    "show(bkapp) # notebook_url=\"http://localhost:8888\" "
   ]
  }
 ],
 "metadata": {
  "anaconda-cloud": {},
  "kernelspec": {
   "display_name": "Python 3 (ipykernel)",
   "language": "python",
   "name": "python3"
  },
  "language_info": {
   "codemirror_mode": {
    "name": "ipython",
    "version": 3
   },
   "file_extension": ".py",
   "mimetype": "text/x-python",
   "name": "python",
   "nbconvert_exporter": "python",
   "pygments_lexer": "ipython3",
   "version": "3.10.9"
  }
 },
 "nbformat": 4,
 "nbformat_minor": 2
}
